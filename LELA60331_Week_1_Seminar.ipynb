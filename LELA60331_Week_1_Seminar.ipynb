{
  "cells": [
    {
      "cell_type": "markdown",
      "id": "9nh3-HVWB778",
      "metadata": {
        "id": "9nh3-HVWB778"
      },
      "source": [
        "# LELA60331  Computational Linguistics 1 Week 1\n",
        "\n",
        "Today we are going to look at regular expressions and finite state acceptors.\n"
      ]
    },
    {
      "cell_type": "markdown",
      "id": "f9acedd8",
      "metadata": {
        "id": "f9acedd8"
      },
      "source": [
        "## Variables and strings\n",
        " A variable is like a box in which you can store information of any kind. You assign data to variables using the assignment operator =. For example you can store the number 5 as the variable i as follows:"
      ]
    },
    {
      "cell_type": "code",
      "execution_count": null,
      "id": "f9906764",
      "metadata": {
        "id": "f9906764"
      },
      "outputs": [],
      "source": [
        "i = 5"
      ]
    },
    {
      "cell_type": "markdown",
      "id": "459f4508",
      "metadata": {
        "id": "459f4508"
      },
      "source": [
        "Once stored these variables can be manipulated, for example using the standard mathematical operators for addition \"+\", subtraction \"-\", multiplication \"*\" and division \"/\"."
      ]
    },
    {
      "cell_type": "markdown",
      "id": "9645372d",
      "metadata": {
        "id": "9645372d"
      },
      "source": [
        "Data in Python has different types. i, as a whole number, is an integer, or int.\n",
        "\n",
        "Variables can also be used to store a letter or a sequence of letters, known as a string:"
      ]
    },
    {
      "cell_type": "code",
      "execution_count": null,
      "id": "ddecf601",
      "metadata": {
        "id": "ddecf601"
      },
      "outputs": [],
      "source": [
        "j = \"cats\""
      ]
    },
    {
      "cell_type": "markdown",
      "id": "3a659d6d",
      "metadata": {
        "id": "3a659d6d"
      },
      "source": [
        "### Regular Expressions"
      ]
    },
    {
      "cell_type": "markdown",
      "id": "e8f6fcae",
      "metadata": {
        "id": "e8f6fcae"
      },
      "source": [
        "In order to use regular expressions in Python we need to import the regular expressions library (https://docs.python.org/3/library/re.html):"
      ]
    },
    {
      "cell_type": "code",
      "execution_count": null,
      "id": "7b4e577d",
      "metadata": {
        "id": "7b4e577d"
      },
      "outputs": [],
      "source": [
        "import re"
      ]
    },
    {
      "cell_type": "markdown",
      "id": "559c5b61-2875-4c5e-805e-064b0e7311bb",
      "metadata": {
        "id": "559c5b61-2875-4c5e-805e-064b0e7311bb"
      },
      "source": [
        "### re.compile()\n",
        "\n",
        "For patterns that we want to use again and again we can use the function re.compile(). This returns a re \"object\" that has all of the re functions."
      ]
    },
    {
      "cell_type": "code",
      "execution_count": null,
      "id": "1bfc392d-d3ef-4b9b-ad8b-e97a3d6e0add",
      "metadata": {
        "id": "1bfc392d-d3ef-4b9b-ad8b-e97a3d6e0add"
      },
      "outputs": [],
      "source": [
        "re0 = re.compile(\".*s\")"
      ]
    },
    {
      "cell_type": "markdown",
      "id": "29da995b-ff70-48f2-acc6-2377a5f2aaca",
      "metadata": {
        "id": "29da995b-ff70-48f2-acc6-2377a5f2aaca"
      },
      "source": [
        "### re.match()\n",
        "\n",
        "This regular expression object then has lots of functions that we can use to apply it to different inputs. For today we are just going to use re.match()"
      ]
    },
    {
      "cell_type": "code",
      "source": [
        "re0.match(j)"
      ],
      "metadata": {
        "id": "Sb7Rn9E-TW5x"
      },
      "id": "Sb7Rn9E-TW5x",
      "execution_count": null,
      "outputs": []
    },
    {
      "cell_type": "markdown",
      "id": "-q8VGjUgLZuN",
      "metadata": {
        "id": "-q8VGjUgLZuN"
      },
      "source": [
        "### Problem set 1\n",
        "1a. Write (on paper) an FSA that accepts any sequence over alphabet {0,1} (of any length) that ends with a 1\n",
        "\n",
        "1b. Write and test a regular expression that accepts any sequence over alphabet {0,1} (of any length) that ends with a 1"
      ]
    },
    {
      "cell_type": "code",
      "execution_count": null,
      "id": "RhJYwF9jczPP",
      "metadata": {
        "id": "RhJYwF9jczPP"
      },
      "outputs": [],
      "source": [
        "re1b = re.compile(\"\")\n"
      ]
    },
    {
      "cell_type": "markdown",
      "id": "c6ZAhSm886l9",
      "metadata": {
        "id": "c6ZAhSm886l9"
      },
      "source": [
        "your pattern should accept all of these"
      ]
    },
    {
      "cell_type": "code",
      "execution_count": null,
      "id": "gVPIGfuT83dt",
      "metadata": {
        "id": "gVPIGfuT83dt"
      },
      "outputs": [],
      "source": [
        "re1b.match(\"001\")"
      ]
    },
    {
      "cell_type": "code",
      "execution_count": null,
      "id": "CQZnLBHf8zEg",
      "metadata": {
        "id": "CQZnLBHf8zEg"
      },
      "outputs": [],
      "source": [
        "re1b.match(\"1\")"
      ]
    },
    {
      "cell_type": "markdown",
      "id": "v9B1aY9I9Ej8",
      "metadata": {
        "id": "v9B1aY9I9Ej8"
      },
      "source": [
        "your pattern should reject all of these"
      ]
    },
    {
      "cell_type": "code",
      "execution_count": null,
      "id": "DO2sUfjQ9KHf",
      "metadata": {
        "id": "DO2sUfjQ9KHf"
      },
      "outputs": [],
      "source": [
        "re1b.match(\"00\")"
      ]
    },
    {
      "cell_type": "code",
      "execution_count": null,
      "id": "L_ZospGR9LUy",
      "metadata": {
        "id": "L_ZospGR9LUy"
      },
      "outputs": [],
      "source": [
        "re1b.match(\"10\")"
      ]
    },
    {
      "cell_type": "markdown",
      "id": "izVI-lHqdFTA",
      "metadata": {
        "id": "izVI-lHqdFTA"
      },
      "source": [
        "1c. Write (on paper) an FSA that accepts any sequence over alphabet {0,1} (of length at least 2) that ends with a 1\n",
        "\n",
        "1d. Write and test a regular expression that accepts any sequence over alphabet {0,1} (of length at least 2) that ends with a 1"
      ]
    },
    {
      "cell_type": "code",
      "execution_count": null,
      "id": "c4XIxP_C9jxc",
      "metadata": {
        "id": "c4XIxP_C9jxc"
      },
      "outputs": [],
      "source": [
        "re1d = re.compile(\"\")"
      ]
    },
    {
      "cell_type": "markdown",
      "id": "VJBjM8W99cou",
      "metadata": {
        "id": "VJBjM8W99cou"
      },
      "source": [
        "your pattern should accept all of these"
      ]
    },
    {
      "cell_type": "code",
      "execution_count": null,
      "id": "cLf4GQOz9co5",
      "metadata": {
        "id": "cLf4GQOz9co5"
      },
      "outputs": [],
      "source": [
        "re1d.match(\"001\")"
      ]
    },
    {
      "cell_type": "code",
      "execution_count": null,
      "id": "x-2A5AOP9co5",
      "metadata": {
        "id": "x-2A5AOP9co5"
      },
      "outputs": [],
      "source": [
        "re1d.match(\"11\")"
      ]
    },
    {
      "cell_type": "markdown",
      "id": "QUnCR88l9co5",
      "metadata": {
        "id": "QUnCR88l9co5"
      },
      "source": [
        "your pattern should reject all of these"
      ]
    },
    {
      "cell_type": "code",
      "execution_count": null,
      "id": "NVfPIaym9co6",
      "metadata": {
        "id": "NVfPIaym9co6"
      },
      "outputs": [],
      "source": [
        "re1d.match(\"00\")"
      ]
    },
    {
      "cell_type": "code",
      "execution_count": null,
      "id": "sqkfAc_n9co6",
      "metadata": {
        "id": "sqkfAc_n9co6"
      },
      "outputs": [],
      "source": [
        "re1d.match(\"1\")"
      ]
    },
    {
      "cell_type": "markdown",
      "id": "dYxZ_NyDLZ1X",
      "metadata": {
        "id": "dYxZ_NyDLZ1X"
      },
      "source": [
        "### Problem set 2\n",
        "2a. Write (on paper) an FSA that accepts any sequence over alphabet {0,1} that ends with 01\n",
        "\n",
        "2b. Write and test a regular expression that accepts any sequence over alphabet {0,1} that ends with 01\n",
        "\n"
      ]
    },
    {
      "cell_type": "code",
      "execution_count": null,
      "id": "epW302I5948h",
      "metadata": {
        "id": "epW302I5948h"
      },
      "outputs": [],
      "source": [
        "re2b = re.compile(\"\")"
      ]
    },
    {
      "cell_type": "markdown",
      "id": "41FHWPPg948i",
      "metadata": {
        "id": "41FHWPPg948i"
      },
      "source": [
        "your pattern should accept all of these"
      ]
    },
    {
      "cell_type": "code",
      "execution_count": null,
      "id": "NVLgh5uT948i",
      "metadata": {
        "id": "NVLgh5uT948i"
      },
      "outputs": [],
      "source": [
        "re2b.match(\"001\")"
      ]
    },
    {
      "cell_type": "code",
      "execution_count": null,
      "id": "sN7Yjt23948i",
      "metadata": {
        "id": "sN7Yjt23948i"
      },
      "outputs": [],
      "source": [
        "re2b.match(\"101\")"
      ]
    },
    {
      "cell_type": "markdown",
      "id": "PpOTPjUE948i",
      "metadata": {
        "id": "PpOTPjUE948i"
      },
      "source": [
        "your pattern should reject all of these"
      ]
    },
    {
      "cell_type": "code",
      "execution_count": null,
      "id": "w75FeRnJ948i",
      "metadata": {
        "id": "w75FeRnJ948i"
      },
      "outputs": [],
      "source": [
        "re2b.match(\"010\")"
      ]
    },
    {
      "cell_type": "code",
      "execution_count": null,
      "id": "mNkU8eDg948i",
      "metadata": {
        "id": "mNkU8eDg948i"
      },
      "outputs": [],
      "source": [
        "re2b.match(\"11\")"
      ]
    },
    {
      "cell_type": "markdown",
      "id": "fA0FIap3QuPI",
      "metadata": {
        "id": "fA0FIap3QuPI"
      },
      "source": [
        "### Problem set 3\n",
        "\n",
        "3a. Write (on paper) an FSA that accepts any sequence over alphabet {0,1} that includes an even number of zeros\n",
        "\n",
        "3b. Write and test a regular expression that accepts any sequence over alphabet {0,1} that includes an even number of zeros"
      ]
    },
    {
      "cell_type": "code",
      "execution_count": null,
      "id": "ZOsbPrKQRibB",
      "metadata": {
        "id": "ZOsbPrKQRibB"
      },
      "outputs": [],
      "source": [
        "re3b = re.compile(\"\")"
      ]
    },
    {
      "cell_type": "markdown",
      "id": "zSoeEq6oRibC",
      "metadata": {
        "id": "zSoeEq6oRibC"
      },
      "source": [
        "your pattern should accept all of these"
      ]
    },
    {
      "cell_type": "code",
      "execution_count": null,
      "id": "YxS6kRcyRibC",
      "metadata": {
        "id": "YxS6kRcyRibC"
      },
      "outputs": [],
      "source": [
        "re3b.match(\"1001\")"
      ]
    },
    {
      "cell_type": "code",
      "execution_count": null,
      "id": "X3T-dgYDRibC",
      "metadata": {
        "id": "X3T-dgYDRibC"
      },
      "outputs": [],
      "source": [
        "re3b.match(\"10101\")"
      ]
    },
    {
      "cell_type": "markdown",
      "id": "kvyygt0WRibC",
      "metadata": {
        "id": "kvyygt0WRibC"
      },
      "source": [
        "your pattern should reject all of these"
      ]
    },
    {
      "cell_type": "code",
      "execution_count": null,
      "id": "2id3rXxeRibC",
      "metadata": {
        "id": "2id3rXxeRibC"
      },
      "outputs": [],
      "source": [
        "re3b.match(\"000\")"
      ]
    },
    {
      "cell_type": "code",
      "execution_count": null,
      "id": "dIqupYafRibC",
      "metadata": {
        "id": "dIqupYafRibC"
      },
      "outputs": [],
      "source": [
        "re3b.match(\"101\")"
      ]
    },
    {
      "cell_type": "markdown",
      "id": "yPSIsZmaesO4",
      "metadata": {
        "id": "yPSIsZmaesO4"
      },
      "source": [
        "### Problem set 4\n",
        "\n",
        "4a. Write (on paper) an FSA that accepts any sequence over alphabet {0,1} that doesn't end with 01\n",
        "\n",
        "4b. Write and test a regular expression that accepts any sequence over alphabet {0,1} that doesn't end with 01"
      ]
    },
    {
      "cell_type": "code",
      "execution_count": null,
      "id": "j_VCgh-e_M5L",
      "metadata": {
        "id": "j_VCgh-e_M5L"
      },
      "outputs": [],
      "source": [
        "re4b = re.compile(\"\")"
      ]
    },
    {
      "cell_type": "markdown",
      "id": "7Uf3x21z_KCX",
      "metadata": {
        "id": "7Uf3x21z_KCX"
      },
      "source": [
        "your pattern should accept all of these"
      ]
    },
    {
      "cell_type": "code",
      "execution_count": null,
      "id": "FLU5iPwh_KCi",
      "metadata": {
        "id": "FLU5iPwh_KCi"
      },
      "outputs": [],
      "source": [
        "re4b.match(\"010\")"
      ]
    },
    {
      "cell_type": "code",
      "execution_count": null,
      "id": "gCNyxQAN_KCj",
      "metadata": {
        "id": "gCNyxQAN_KCj"
      },
      "outputs": [],
      "source": [
        "re4b.match(\"011\")"
      ]
    },
    {
      "cell_type": "code",
      "execution_count": null,
      "id": "2IwFtnKTLWE8",
      "metadata": {
        "id": "2IwFtnKTLWE8"
      },
      "outputs": [],
      "source": [
        "re4b.match(\"1\")"
      ]
    },
    {
      "cell_type": "markdown",
      "id": "B33VnPW-_KCj",
      "metadata": {
        "id": "B33VnPW-_KCj"
      },
      "source": [
        "your pattern should reject all of these"
      ]
    },
    {
      "cell_type": "code",
      "execution_count": null,
      "id": "gHwVst6h_KCj",
      "metadata": {
        "id": "gHwVst6h_KCj"
      },
      "outputs": [],
      "source": [
        "re4b.match(\"01\")"
      ]
    },
    {
      "cell_type": "code",
      "execution_count": null,
      "id": "4QiqRuP7_KCj",
      "metadata": {
        "id": "4QiqRuP7_KCj"
      },
      "outputs": [],
      "source": [
        "re4b.match(\"101\")"
      ]
    },
    {
      "cell_type": "markdown",
      "id": "23259638",
      "metadata": {
        "id": "23259638"
      },
      "source": [
        "### re.findall()\n",
        "Another very useful function in the re package is re.findall() - this searches for occurences of a pattern in a given string. If it find matches, it returns them all in a list."
      ]
    },
    {
      "cell_type": "markdown",
      "id": "zm7ySDUaizx5",
      "metadata": {
        "id": "zm7ySDUaizx5"
      },
      "source": [
        "### Problem set 5\n",
        "\n",
        "5a. Write an FSA that accepts the past tense forms of verbs.\n",
        "\n",
        "5b. Write a regular expression that accepts the English regular past tense form of verbs, and then use this combined with re.findall() to identify all past tense forms of verbs in sentence 1."
      ]
    },
    {
      "cell_type": "code",
      "execution_count": null,
      "id": "1d57f1c6",
      "metadata": {
        "id": "1d57f1c6"
      },
      "outputs": [],
      "source": [
        "sentence1=\"I wanted some exercise so I walked to work today\""
      ]
    },
    {
      "cell_type": "code",
      "execution_count": null,
      "id": "85ef7420",
      "metadata": {
        "id": "85ef7420"
      },
      "outputs": [],
      "source": [
        "re3b = re.compile(\"\")\n",
        "re3b.findall(sentence1)"
      ]
    },
    {
      "cell_type": "markdown",
      "id": "f6af4edd",
      "metadata": {
        "id": "f6af4edd"
      },
      "source": [
        "5c. apply re4 to the sentence 2."
      ]
    },
    {
      "cell_type": "code",
      "execution_count": null,
      "id": "1938ec36",
      "metadata": {
        "id": "1938ec36"
      },
      "outputs": [],
      "source": [
        "sentence2=\"I wanted some exercise so I walked to work today and was tired afterwards\""
      ]
    },
    {
      "cell_type": "markdown",
      "id": "Tzja4S2ZlOl2",
      "metadata": {
        "id": "Tzja4S2ZlOl2"
      },
      "source": [
        "3d. Rewrite your FSA from 3a and your regular expression from 3b so that they perform as you want for sentence 2"
      ]
    },
    {
      "cell_type": "code",
      "execution_count": null,
      "id": "aHMfAposUt33",
      "metadata": {
        "id": "aHMfAposUt33"
      },
      "outputs": [],
      "source": [
        "re5d = re.compile(\"\")\n",
        "re5d.findall(sentence2)"
      ]
    }
  ],
  "metadata": {
    "colab": {
      "provenance": []
    },
    "kernelspec": {
      "display_name": "Python 3 (ipykernel)",
      "language": "python",
      "name": "python3"
    },
    "language_info": {
      "codemirror_mode": {
        "name": "ipython",
        "version": 3
      },
      "file_extension": ".py",
      "mimetype": "text/x-python",
      "name": "python",
      "nbconvert_exporter": "python",
      "pygments_lexer": "ipython3",
      "version": "3.10.9"
    }
  },
  "nbformat": 4,
  "nbformat_minor": 5
}