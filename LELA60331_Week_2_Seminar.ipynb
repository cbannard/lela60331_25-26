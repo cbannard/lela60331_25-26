{
  "cells": [
    {
      "cell_type": "markdown",
      "metadata": {
        "id": "Ax6dGhVZYLrf"
      },
      "source": [
        "# LELA60331 Computational Linguistics 1 Week 2\n",
        "\n",
        "In today's session we are going to tackle some problems in Computational Morphology. We will start by applying what we learnt last week to a morphology problem. We are then going to learn about a few more regular expression functions in Python. We will then use these, along with our new knowledge of finite state transducers.\n",
        "\n",
        "\n",
        "As we move through the problems you might find it useful to refer to this: https://www.dataquest.io/wp-content/uploads/2019/03/python-regular-expressions-cheat-sheet.pdf\n",
        "\n",
        "Before that we need to import the Python re library."
      ]
    },
    {
      "cell_type": "code",
      "execution_count": null,
      "metadata": {
        "id": "oodJ0fqdEUY3"
      },
      "outputs": [],
      "source": [
        "import re"
      ]
    },
    {
      "cell_type": "markdown",
      "metadata": {
        "id": "zrcSt3ZdZYpY"
      },
      "source": [
        "### Concatenative Morphology: Esperanto\n",
        "\n",
        "The constructed language Esperanto uses simple affixation to form nouns as seen in the following table."
      ]
    },
    {
      "cell_type": "markdown",
      "metadata": {
        "id": "NHRpZK9gZYpY"
      },
      "source": [
        "| &emsp;hundo&emsp; | &emsp;'dog'&emsp; | <br>\n",
        "| &emsp;hundino&emsp; | &emsp;'female dog'&emsp;| <br>\n",
        "| &emsp;hundinoj&emsp; | &emsp;'female dogs'&emsp;| <br>\n",
        "| &emsp;hundinego&emsp; | &emsp;'big female dog'&emsp;| <br>\n",
        "| &emsp;hundegino&emsp; | &emsp;'big female dog'&emsp;| <br>\n",
        "| &emsp;hundinego&emsp; | &emsp;'big female dog'&emsp;| <br>\n",
        "| &emsp;hundigetino&emsp; | &emsp;'big small female dog'&emsp;| <br>\n",
        "| &emsp;hundinetego&emsp; | &emsp;'big small female dog'&emsp;| <br>"
      ]
    },
    {
      "cell_type": "markdown",
      "metadata": {
        "id": "W8-PdFGTZYpY"
      },
      "source": [
        "Problem 1a: Write a finite state accceptor that will accept all of the nouns seen in the table. All nouns include the noun-forming suffix -o and can also include the following:\n",
        "- the feminine marker -in\n",
        "- the dimunitive -et\n",
        "- the augmentative (marking size) - eg\n",
        "- the plural marker -j\n",
        "\n",
        "Problem 1b: Write a single regular expression to implement your FSA."
      ]
    },
    {
      "cell_type": "code",
      "execution_count": null,
      "metadata": {
        "id": "oe89nDOZZYpY"
      },
      "outputs": [],
      "source": [
        "re1 = re.compile(\"\")\n",
        "# Your pattern should accept these forms\n",
        "re1.match(\"hundo\")\n",
        "re1.match(\"hundino\")\n",
        "re1.match(\"hundinoj\")\n",
        "re1.match(\"hundinego\")\n",
        "re1.match(\"hundegino\")\n",
        "re1.match(\"hundinego\")\n",
        "re1.match(\"hundigetino\")\n",
        "re1.match(\"hundinetego\")\n",
        "# Your pattern should not accept these forms\n",
        "re1.match(\"hundonetegi\")\n",
        "re1.match(\"hundonitegi\")\n",
        "re1.match(\"hundi\")\n",
        "re1.match(\"hundoje\")"
      ]
    },
    {
      "cell_type": "markdown",
      "metadata": {
        "id": "ba4d8356-c163-4392-bfaf-97630b7497fe"
      },
      "source": [
        "### re.sub()"
      ]
    },
    {
      "cell_type": "markdown",
      "metadata": {
        "id": "82c3dabf-a023-49f5-90fb-8709d218f78e"
      },
      "source": [
        "A very useful function for us is going to be re.sub. This finds all occurences of an input sequence and replaces them with a provided output:"
      ]
    },
    {
      "cell_type": "code",
      "execution_count": null,
      "metadata": {
        "id": "KhQKx4LtZYpa"
      },
      "outputs": [],
      "source": [
        "sentence1=\"I wanted some exercise so I walked to work today and was tired afterwards\""
      ]
    },
    {
      "cell_type": "code",
      "execution_count": null,
      "metadata": {
        "id": "61b85ce6-e8cd-4eb3-904b-42c47c28a8b5"
      },
      "outputs": [],
      "source": [
        "re.sub('ed','ing',sentence1)"
      ]
    },
    {
      "cell_type": "markdown",
      "metadata": {
        "id": "6cfb84ae"
      },
      "source": [
        "For lots of applications of re.sub you will need to \"cascade\" substitutions - apply one substitution and take the output as input to the next as in the following command which turns \"I like both dogs and cats\" into \"I like  both lions and tigers\":"
      ]
    },
    {
      "cell_type": "code",
      "execution_count": null,
      "metadata": {
        "id": "b8a3edf7"
      },
      "outputs": [],
      "source": [
        "sentence2 = \"I like both dogs and cats\"\n",
        "s2 = re.sub('dogs','lions',sentence2)\n",
        "s3 = re.sub('cats','tigers',s2)\n",
        "print(s3)"
      ]
    },
    {
      "cell_type": "markdown",
      "metadata": {
        "id": "af9dfd45-d384-4e6e-ace8-56b54da6462e"
      },
      "source": [
        "Problem 2: Write a regular expression or series of regular expression to translate this first sentence of \"Crime and Punishment\" from past to present tense."
      ]
    },
    {
      "cell_type": "code",
      "execution_count": null,
      "metadata": {
        "id": "ff0974f6-9a71-48fb-9b7d-e8d6b70ab3e9",
        "scrolled": true
      },
      "outputs": [],
      "source": [
        "opening_sentence = \"On an exceptionally hot evening early in July a young man came out of the garret in which he lodged in S. Place and walked slowly, as though in hesitation, towards K. bridge.\""
      ]
    },
    {
      "cell_type": "code",
      "execution_count": null,
      "metadata": {
        "id": "OYdet3QyZYpb"
      },
      "outputs": [],
      "source": [
        "re.sub('','',opening_sentence)"
      ]
    },
    {
      "cell_type": "markdown",
      "metadata": {
        "id": "a1dbb833-d727-4406-b841-00f593e0a7e7"
      },
      "source": [
        "### Groups"
      ]
    },
    {
      "cell_type": "markdown",
      "metadata": {
        "id": "c2d91273-4d07-444b-b80b-9e1ab940241d"
      },
      "source": [
        "Grouping is a very powerful technique for picking out substrings from a string that matches a specified pattern. It is done using parentheses."
      ]
    },
    {
      "cell_type": "code",
      "execution_count": null,
      "metadata": {
        "id": "c95a71b8-0d7e-4ece-99a2-5eace6b15e42"
      },
      "outputs": [],
      "source": [
        "re.findall(\"(.*)(s)\", \"cats\")"
      ]
    },
    {
      "cell_type": "markdown",
      "metadata": {
        "id": "7d20a12a"
      },
      "source": [
        "Problem 3: In this example grouping has separated a single noun from the plural marking -s. Rewrite the pattern so that it finds and similarly separates all plural nouns in sentence 3:"
      ]
    },
    {
      "cell_type": "code",
      "execution_count": null,
      "metadata": {
        "id": "0594d6e9"
      },
      "outputs": [],
      "source": [
        "sentence3=\"I like dogs, cats and rabbits\""
      ]
    },
    {
      "cell_type": "code",
      "execution_count": null,
      "metadata": {
        "id": "598a18ad"
      },
      "outputs": [],
      "source": [
        "re.findall(\"(.*)(s)\", sentence3)"
      ]
    },
    {
      "cell_type": "markdown",
      "metadata": {
        "id": "6057638d"
      },
      "source": [
        "### Combining sub with groups\n",
        "The re.sub function and grouping become particularly powerful when they are combined. You can use parentheses to capture a particular substring within a pattern and then use it in your replacement string within sub. For example:\n"
      ]
    },
    {
      "cell_type": "code",
      "execution_count": null,
      "metadata": {
        "id": "91963cae"
      },
      "outputs": [],
      "source": [
        "opening_sentence = \"a young man came out of the garret in which he lodged in S. Place and walked slowly towards K. bridge.\""
      ]
    },
    {
      "cell_type": "code",
      "execution_count": null,
      "metadata": {
        "id": "c33d2ae2"
      },
      "outputs": [],
      "source": [
        "re.sub('([a-z]+)ed','is \\\\1ing',opening_sentence)"
      ]
    },
    {
      "cell_type": "markdown",
      "source": [
        "You can include more than 1 group in a pattern, and groups can be included within other groups They are numbered from left based on the opening bracket. So for ((a)(b)), \"ab\" would be 1, \"a\" would be 2 and \"b\" would be 3. As in the following."
      ],
      "metadata": {
        "id": "IxiqpeVofExy"
      }
    },
    {
      "cell_type": "code",
      "source": [
        "re.sub('^((a)(b))$','\\\\1 \\\\2 \\\\3',\"ab\")"
      ],
      "metadata": {
        "id": "v9xnXOpmfmNO"
      },
      "execution_count": null,
      "outputs": []
    },
    {
      "cell_type": "markdown",
      "metadata": {
        "id": "fef174bd"
      },
      "source": [
        "Problem 4a: Use sub combined with groups to convert the sentence \"man bites dog\" into \"dog bites man\""
      ]
    },
    {
      "cell_type": "code",
      "execution_count": null,
      "metadata": {
        "id": "af2a83d2"
      },
      "outputs": [],
      "source": [
        "sentence = \"man bites dog\"\n",
        "print(re.sub('','',sentence))"
      ]
    },
    {
      "cell_type": "markdown",
      "metadata": {
        "id": "8070f9e1"
      },
      "source": [
        "Problem 4b: Use sub combined with groups to convert the sentence \"man strokes dog\" into \"dog is stroked by man\""
      ]
    },
    {
      "cell_type": "code",
      "source": [
        "sentence = \"man strokes dog\"\n",
        "print(re.sub('','',sentence))"
      ],
      "metadata": {
        "id": "pPDJOr3uoIpr"
      },
      "execution_count": null,
      "outputs": []
    },
    {
      "cell_type": "markdown",
      "metadata": {
        "id": "KyRUVda0ZYpc"
      },
      "source": [
        "### Prosodically governed concatenation\n",
        "\n",
        "In the lecture this week we encountered the comparative -est ending in English which can only be applied to monosyllabic or disyllabic words:\n",
        "\n",
        "dumb -> dumbest\n",
        "\n",
        "timid -> timidest\n",
        "\n",
        "fantastic -> fantasticest*\n",
        "\n",
        "Note - a syllable has the form V, CV, VC or CVC where C is a consonant (or cluster of consonants) and V is a vowel.\n",
        "\n",
        "Problem 5a: Write a finite state transducer that appropriately performs this concatenation\n",
        "\n",
        "Problem 5b: Write a re.sub function that appropriately performs this concatenation. The same input and output patterns should work for all of the cases below."
      ]
    },
    {
      "cell_type": "code",
      "execution_count": null,
      "metadata": {
        "id": "2YzAMjwYZYpc"
      },
      "outputs": [],
      "source": [
        "# vowels = [aeiou]\n",
        "# consonants = [qwrtypsdfghjklzxcvbnm]\n",
        "\n",
        "# Your pattern should add suffix here\n",
        "re.sub(\"\",\"\",\"dumb\")"
      ]
    },
    {
      "cell_type": "code",
      "execution_count": null,
      "metadata": {
        "id": "eZX8xT-nZYpc"
      },
      "outputs": [],
      "source": [
        "# Your pattern should add suffix here\n",
        "re.sub(\"\",\"\",\"timid\")"
      ]
    },
    {
      "cell_type": "code",
      "execution_count": null,
      "metadata": {
        "id": "IEHbf_3_ZYpc"
      },
      "outputs": [],
      "source": [
        "# Your pattern should NOT add suffix here\n",
        "re.sub(\"\",\"\",\"fantastic\")\n"
      ]
    },
    {
      "cell_type": "markdown",
      "metadata": {
        "id": "ccsZ1rBgYpGH"
      },
      "source": [
        "### Orthographic changes during concatenation\n",
        "\n",
        "In the lecture we also saw the example of German diminutive suffixation:\n",
        "\n",
        "hund -> hündchen\n",
        "\n",
        "haus -> häuschen\n",
        "\n",
        "blatt -> blätchen\n",
        "\n",
        "maus -> mäuschen\n",
        "\n",
        "\n",
        "Problem 6a: Write a finite-state transducer that performs diminutive suffixation in German for the examples above\n",
        "\n",
        "Problem 6b: Write an re.sub function that performs diminutive suffixation in German for the examples below."
      ]
    },
    {
      "cell_type": "code",
      "execution_count": null,
      "metadata": {
        "id": "mdCkuVVCZYpc"
      },
      "outputs": [],
      "source": [
        "re.sub(\"\",\"\",\"hund\")"
      ]
    },
    {
      "cell_type": "code",
      "execution_count": null,
      "metadata": {
        "id": "lVKFgsRfZYpc"
      },
      "outputs": [],
      "source": [
        "re.sub(\"\",\"\",\"haus\")"
      ]
    },
    {
      "cell_type": "code",
      "execution_count": null,
      "metadata": {
        "id": "2g7ll_JJZYpd"
      },
      "outputs": [],
      "source": [
        "re.sub(\"\",\"\",\"blatt\")"
      ]
    },
    {
      "cell_type": "code",
      "execution_count": null,
      "metadata": {
        "id": "puCEfOpZZYpd"
      },
      "outputs": [],
      "source": [
        "re.sub(\"\",\"\",\"maus\")"
      ]
    },
    {
      "cell_type": "markdown",
      "source": [
        "If you find these straightforward then try rewriting them as a series of cascading operations that performs them all on the input s1"
      ],
      "metadata": {
        "id": "ddoMILqBi73t"
      }
    },
    {
      "cell_type": "code",
      "source": [
        "s1 = \"hund haus blatt maus\"\n",
        "s2 = re.sub(\"\",\"\",s1)\n",
        "s3= re.sub(\"\",\"\",s2)\n",
        "s4 = re.sub(\"\",\"\",s3)\n",
        "s4"
      ],
      "metadata": {
        "id": "jXVQveGrhwVO"
      },
      "execution_count": null,
      "outputs": []
    },
    {
      "cell_type": "markdown",
      "metadata": {
        "id": "kDeCl5IGZYph"
      },
      "source": [
        "### Broken plurals in Arabic\n",
        "\n",
        "The table below shows four different patterns of \"broken\" pluralisation in Arabic."
      ]
    },
    {
      "cell_type": "markdown",
      "metadata": {
        "id": "J351WxPpR3jE"
      },
      "source": [
        "&emsp;|&emsp; sg &emsp;| &emsp; pl &emsp;|<br>\n",
        "a &nbsp; | &emsp; ɣurfah &emsp; | &emsp; ɣuraf &emsp;| &emsp; ‘room’ &emsp;|<br>\n",
        " &emsp; | &emsp; rukbah &emsp; | &emsp; rukab &emsp;| &emsp; ‘knee’ &emsp;|<br>\n",
        " &emsp; | &emsp; luʕbah &emsp; | &emsp; luʕab &emsp;| &emsp; ‘toy’ &emsp;|<br>\n",
        " &emsp; | &emsp; ʔusrah &emsp; | &emsp; ʔusar &emsp;| &emsp; ‘family’ &emsp;|<br>\n",
        " &emsp; | &emsp; nusxah &emsp; | &emsp; nusax &emsp;| &emsp; ‘copy’ &emsp;|<br>\n",
        "\n",
        "b &nbsp; | &emsp; ħikmah &emsp; | &emsp; ħikam &emsp;| &emsp; ‘wisdom’ &emsp;|<br>\n",
        " &emsp; | &emsp; qitʕtʕah &emsp; | &emsp; qitʕatʕ &emsp;| &emsp; ‘female cat’ &emsp;|<br>\n",
        " &emsp; | &emsp; fitnah &emsp; | &emsp; fitan &emsp;| &emsp; ‘temptation’ &emsp;|<br>\n",
        " &emsp; | &emsp; miħnah &emsp; | &emsp; miħan &emsp;| &emsp; ‘ordeal’ &emsp;|<br>\n",
        " &emsp; | &emsp; sikkah &emsp; | &emsp; sikak &emsp;| &emsp; ‘rail’ &emsp;|<br>\n",
        "\n",
        "\n",
        "c &nbsp; | &emsp; qalb &emsp; | &emsp; quluːb &emsp;| &emsp;  ‘heart’ &emsp;|<br>\n",
        " &emsp; | &emsp; baħθ &emsp; | &emsp; buħuːθ &emsp;| &emsp; ‘research’ &emsp;|<br>\n",
        " &emsp; | &emsp; taqs &emsp; | &emsp; tuquːs &emsp;| &emsp; ‘weather’ &emsp;|<br>\n",
        " &emsp; | &emsp; qasʕr &emsp; | &emsp; qusʕuːr &emsp;| &emsp; ‘castle’ &emsp;|<br>\n",
        " &emsp; | &emsp; ʕilm &emsp; | &emsp; ʕuluːm &emsp;| &emsp; ‘science’ &emsp;|<br>\n",
        "\n",
        "d &nbsp; | &emsp; faːkihah &emsp; | &emsp; fawaːkih &emsp;| &emsp; ‘fruit’ &emsp;|<br>\n",
        " &emsp; | &emsp; baːrid͡ʒah &emsp; | &emsp; bawaːrid͡ʒ &emsp;| &emsp; ‘battleship’ &emsp;|<br>\n",
        " &emsp; | &emsp; raːʔiħah &emsp; | &emsp; rawaːʔiħ &emsp;| &emsp; ‘smell’ &emsp;|<br>\n",
        " &emsp; | &emsp; ʕaːtʕifah &emsp; | &emsp; ʕawaːtʕif &emsp;| &emsp; ‘emotion’ &emsp;|<br>\n",
        " &emsp; | &emsp; naːfiðah &emsp; | &emsp; nawaːfið &emsp;| &emsp; ‘window’ &emsp;|<br>\n",
        "\n",
        "\n"
      ]
    },
    {
      "cell_type": "markdown",
      "metadata": {
        "id": "TXYIs2X8ZYph"
      },
      "source": [
        "Problem 7a: Figure out the relationship between the singular and plural forms for each of the four groups in the table above.\n",
        "\n",
        "Problem 7b [optional]: Write a finite-state transducer that takes in the singular forms and outputs the plural forms for one of the groups above.\n",
        "\n",
        "Problem 7c: Write an re.sub function that takes in the singular forms and outputs the plural forms for one of the groups above.   \n",
        "\n",
        "Problem 7d (to do in your own time): Solve problems 7b [optional] and 7c but for the other groups. If you are really feeling ambitious, try to solve all groups with a single re.sub call."
      ]
    },
    {
      "cell_type": "markdown",
      "metadata": {
        "id": "_m3Dq3XuZYph"
      },
      "source": [
        "#### Group 1"
      ]
    },
    {
      "cell_type": "code",
      "execution_count": null,
      "metadata": {
        "id": "y2gckWyIZYph"
      },
      "outputs": [],
      "source": [
        "re.sub('','',\"ɣurfah\")\n"
      ]
    },
    {
      "cell_type": "code",
      "execution_count": null,
      "metadata": {
        "id": "_lK3_XnCZYph"
      },
      "outputs": [],
      "source": [
        "re.sub('','',\"rukbah\")\n"
      ]
    },
    {
      "cell_type": "code",
      "execution_count": null,
      "metadata": {
        "id": "o4hX7WViZYpi"
      },
      "outputs": [],
      "source": [
        "re.sub('','',\"luʕbah\")\n"
      ]
    },
    {
      "cell_type": "code",
      "execution_count": null,
      "metadata": {
        "id": "DrDHo2mxZYpi"
      },
      "outputs": [],
      "source": [
        "re.sub('','',\"ʔusrah\")"
      ]
    },
    {
      "cell_type": "code",
      "execution_count": null,
      "metadata": {
        "id": "mo4lyFS8ZYpi"
      },
      "outputs": [],
      "source": [
        "re.sub('','',\"nusxah\")"
      ]
    },
    {
      "cell_type": "markdown",
      "metadata": {
        "id": "FfE0ebNmZYpi"
      },
      "source": [
        "#### Group 2"
      ]
    },
    {
      "cell_type": "code",
      "execution_count": null,
      "metadata": {
        "id": "Siyr_VMeZYpi"
      },
      "outputs": [],
      "source": [
        "re.sub('','',\"ħikmah\")"
      ]
    },
    {
      "cell_type": "code",
      "execution_count": null,
      "metadata": {
        "id": "rWO9guXcZYpi"
      },
      "outputs": [],
      "source": [
        "re.sub('','',\"qitʕtʕah\")"
      ]
    },
    {
      "cell_type": "code",
      "execution_count": null,
      "metadata": {
        "id": "jZpjBe_NZYpi"
      },
      "outputs": [],
      "source": [
        "re.sub('','',\"fitnah\")"
      ]
    },
    {
      "cell_type": "code",
      "execution_count": null,
      "metadata": {
        "id": "LkyPPZpsZYpi"
      },
      "outputs": [],
      "source": [
        "re.sub('','',\"miħnah\")"
      ]
    },
    {
      "cell_type": "code",
      "execution_count": null,
      "metadata": {
        "id": "kCDfg-yLZYpi"
      },
      "outputs": [],
      "source": [
        "re.sub('','',\"sikkah\")"
      ]
    },
    {
      "cell_type": "markdown",
      "metadata": {
        "id": "rxhdOmEHZYpi"
      },
      "source": [
        "#### Group 3"
      ]
    },
    {
      "cell_type": "code",
      "execution_count": null,
      "metadata": {
        "id": "eVJm9URtZYpi"
      },
      "outputs": [],
      "source": [
        "re.sub('','',\"qalb\")"
      ]
    },
    {
      "cell_type": "code",
      "execution_count": null,
      "metadata": {
        "id": "jo_V1QcYZYpj"
      },
      "outputs": [],
      "source": [
        "re.sub('','',\"baħθ\")"
      ]
    },
    {
      "cell_type": "code",
      "execution_count": null,
      "metadata": {
        "id": "49XbL_AlZYpj"
      },
      "outputs": [],
      "source": [
        "re.sub('','',\"taqs\")"
      ]
    },
    {
      "cell_type": "code",
      "execution_count": null,
      "metadata": {
        "id": "N37FNC52ZYpj"
      },
      "outputs": [],
      "source": [
        "re.sub('','',\"qasʕr\")"
      ]
    },
    {
      "cell_type": "code",
      "execution_count": null,
      "metadata": {
        "id": "AiQilx6jZYpj"
      },
      "outputs": [],
      "source": [
        "re.sub('','',\"ʕilm\")"
      ]
    },
    {
      "cell_type": "markdown",
      "metadata": {
        "id": "qx4YgaE2ZYpj"
      },
      "source": [
        "#### Group 4"
      ]
    },
    {
      "cell_type": "code",
      "execution_count": null,
      "metadata": {
        "id": "nVkakr7OZYpk"
      },
      "outputs": [],
      "source": [
        "re.sub('','',\"faːkihah\")"
      ]
    },
    {
      "cell_type": "code",
      "execution_count": null,
      "metadata": {
        "id": "CUoxkVKoZYpk"
      },
      "outputs": [],
      "source": [
        "re.sub('','',\"baːrid͡ʒah\")"
      ]
    },
    {
      "cell_type": "code",
      "execution_count": null,
      "metadata": {
        "id": "KDlnF6ZrZYpk"
      },
      "outputs": [],
      "source": [
        "re.sub('','',\"raːʔiħah\")"
      ]
    },
    {
      "cell_type": "code",
      "execution_count": null,
      "metadata": {
        "id": "sp5cDh_gZYpk"
      },
      "outputs": [],
      "source": [
        "re.sub('','',\"ʕaːtʕifah\")"
      ]
    },
    {
      "cell_type": "code",
      "execution_count": null,
      "metadata": {
        "id": "2o48SJhMZYpk"
      },
      "outputs": [],
      "source": [
        "re.sub('','',\"naːfiðah\")"
      ]
    },
    {
      "cell_type": "markdown",
      "metadata": {
        "id": "2IGuO1yBZYpk"
      },
      "source": [
        "### Reduplication\n",
        "\n",
        "As I said in the week 1 lecture, the Python regex package is more powerful that a finite state machine. An example of this is that finite state machines cannot perform unbounded reduplication, but a Python regex can.\n",
        "\n",
        "We saw an example of unbounded reduplication from Bambara where a sequences of nouns were duplicated after a marker \"-o-\" to produce a particular meaning.\n",
        "\n",
        "Problem 8 (to do in your own time): Write input and output regular expressions that will perform the Bambara operations seen in the lecture for the noun sequences below. Check that this work for noun sequences of any length. Make sure that you understand why this isn't possible with a finite state transducer.\n"
      ]
    },
    {
      "cell_type": "code",
      "execution_count": null,
      "metadata": {
        "id": "oMGFK4G7ZYpk"
      },
      "outputs": [],
      "source": [
        "re.sub('','','wulu')"
      ]
    },
    {
      "cell_type": "code",
      "execution_count": null,
      "metadata": {
        "id": "QQZiJ4mSZYpk"
      },
      "outputs": [],
      "source": [
        "re.sub('','','wulu-nyinina')"
      ]
    },
    {
      "cell_type": "code",
      "execution_count": null,
      "metadata": {
        "id": "gdV9bKW4ZYpk"
      },
      "outputs": [],
      "source": [
        "re.sub('','','wulu-nyinina-filela')"
      ]
    }
  ],
  "metadata": {
    "colab": {
      "provenance": []
    },
    "kernelspec": {
      "display_name": "Python 3 (ipykernel)",
      "language": "python",
      "name": "python3"
    },
    "language_info": {
      "codemirror_mode": {
        "name": "ipython",
        "version": 3
      },
      "file_extension": ".py",
      "mimetype": "text/x-python",
      "name": "python",
      "nbconvert_exporter": "python",
      "pygments_lexer": "ipython3",
      "version": "3.10.9"
    }
  },
  "nbformat": 4,
  "nbformat_minor": 0
}