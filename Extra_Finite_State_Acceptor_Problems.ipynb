{
  "nbformat": 4,
  "nbformat_minor": 0,
  "metadata": {
    "colab": {
      "provenance": []
    },
    "kernelspec": {
      "name": "python3",
      "display_name": "Python 3"
    },
    "language_info": {
      "name": "python"
    }
  },
  "cells": [
    {
      "cell_type": "markdown",
      "source": [
        "## Additional finite state acceptor problems\n",
        "\n",
        "Define an Finite State Acceptor on paper  and then write a regular expression in Python for each of the following languages.\n",
        "\n",
        "I have defined test examples for the first problem. You should define your own test examples for the remainder.\n",
        "\n",
        "You need to start by importing the re library."
      ],
      "metadata": {
        "id": "_u-dk8iiW49r"
      }
    },
    {
      "cell_type": "code",
      "source": [
        "import re"
      ],
      "metadata": {
        "id": "x2s_wdNbaUzQ"
      },
      "execution_count": null,
      "outputs": []
    },
    {
      "cell_type": "markdown",
      "source": [
        "1. Any sequence over alphabet {0,1} that contains exactly one 1."
      ],
      "metadata": {
        "id": "3cUEKED4XQxQ"
      }
    },
    {
      "cell_type": "code",
      "source": [
        "re1 = re.compile(\"\")"
      ],
      "metadata": {
        "id": "IKMe9LkBaRbf"
      },
      "execution_count": null,
      "outputs": []
    },
    {
      "cell_type": "code",
      "source": [
        "# your pattern should match the following\n",
        "re1.match(\"01\")"
      ],
      "metadata": {
        "id": "toVN2GX2gQce"
      },
      "execution_count": null,
      "outputs": []
    },
    {
      "cell_type": "code",
      "source": [
        "# your pattern should NOT match the following\n",
        "re1.match(\"0110\")"
      ],
      "metadata": {
        "id": "8vTBidS9gaJT"
      },
      "execution_count": null,
      "outputs": []
    },
    {
      "cell_type": "markdown",
      "source": [
        "2. Any sequence over alphabet {0,1} that has alternating 0s and 1s."
      ],
      "metadata": {
        "id": "_zXZPYfHYSRU"
      }
    },
    {
      "cell_type": "code",
      "source": [
        "re2 = re.compile(\"\")"
      ],
      "metadata": {
        "id": "4yBqzKjMaOW4"
      },
      "execution_count": null,
      "outputs": []
    },
    {
      "cell_type": "markdown",
      "source": [
        "3. Any sequence over alphabet {0,1} that contains the substring 11."
      ],
      "metadata": {
        "id": "HnDnjZtUZ_9Q"
      }
    },
    {
      "cell_type": "code",
      "source": [
        "re3 = re.compile(\"\")"
      ],
      "metadata": {
        "id": "RZFYj6kAaOv6"
      },
      "execution_count": null,
      "outputs": []
    },
    {
      "cell_type": "markdown",
      "source": [
        "4. Any sequence over alphabet {0,1} that contains the substring 11 exactly once."
      ],
      "metadata": {
        "id": "iHaGkDqpa6V_"
      }
    },
    {
      "cell_type": "code",
      "source": [
        "re4 = re.compile(\"\")"
      ],
      "metadata": {
        "id": "9ZcFhy-Ba-l9"
      },
      "execution_count": null,
      "outputs": []
    },
    {
      "cell_type": "markdown",
      "source": [
        "5. Any sequence over alphabet {0,1,2} that begins with single 0, followed by an odd number of 1s, followed by a 2."
      ],
      "metadata": {
        "id": "JGhdu6yjaFkg"
      }
    },
    {
      "cell_type": "code",
      "source": [
        "re5 = re.compile(\"\")"
      ],
      "metadata": {
        "id": "wWbhYy4GaPRN"
      },
      "execution_count": null,
      "outputs": []
    }
  ]
}