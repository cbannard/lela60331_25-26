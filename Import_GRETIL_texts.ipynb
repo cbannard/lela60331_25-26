{
  "nbformat": 4,
  "nbformat_minor": 0,
  "metadata": {
    "colab": {
      "provenance": []
    },
    "kernelspec": {
      "name": "python3",
      "display_name": "Python 3"
    },
    "language_info": {
      "name": "python"
    }
  },
  "cells": [
    {
      "cell_type": "code",
      "execution_count": null,
      "metadata": {
        "id": "TOaKjKcgFhxy"
      },
      "outputs": [],
      "source": [
        "from bs4 import BeautifulSoup\n",
        "import lxml\n",
        "def read_tei(tei_file):\n",
        "    with open(tei_file, 'r') as tei:\n",
        "        soup = BeautifulSoup(tei, 'lxml')\n",
        "        return soup.html.find_all(\"p\")\n",
        "    raise RuntimeError('Cannot generate a soup from the input')"
      ]
    },
    {
      "cell_type": "markdown",
      "source": [
        "This notebook contains the code to import a folder of TEI encoded texts into a list of lists. Each element in the outer list is a text. Each element in the inner lists are units from the imported text."
      ],
      "metadata": {
        "id": "0pDxQgueUN85"
      }
    },
    {
      "cell_type": "markdown",
      "source": [
        "Download texts, unzip the archive and change directory into it"
      ],
      "metadata": {
        "id": "1PyG5pUsQRAu"
      }
    },
    {
      "cell_type": "code",
      "source": [
        "!wget https://gretil.sub.uni-goettingen.de/gretil/1_sanskr.zip"
      ],
      "metadata": {
        "id": "2NSLYtkhPY2V"
      },
      "execution_count": null,
      "outputs": []
    },
    {
      "cell_type": "code",
      "source": [
        "!unzip 1_sanskr.zip\n",
        "%cd 1_sanskr\n"
      ],
      "metadata": {
        "id": "K8WztVYCPpVS"
      },
      "execution_count": null,
      "outputs": []
    },
    {
      "cell_type": "code",
      "source": [
        "import glob\n",
        "from pathlib import Path\n",
        "\n",
        "texts = sorted(Path(\"tei\").glob('*.xml'))"
      ],
      "metadata": {
        "id": "YHVeBhEOP0fo"
      },
      "execution_count": null,
      "outputs": []
    },
    {
      "cell_type": "code",
      "source": [
        "!ls"
      ],
      "metadata": {
        "id": "-mO4oUA5S5OP"
      },
      "execution_count": null,
      "outputs": []
    },
    {
      "cell_type": "code",
      "source": [
        "all_texts = []\n",
        "text_names = []\n",
        "for t in texts:\n",
        "  text_names.append(t)\n",
        "  all_texts.append(read_tei(t))\n"
      ],
      "metadata": {
        "id": "oi0Ts5DVLlxN"
      },
      "execution_count": null,
      "outputs": []
    },
    {
      "cell_type": "markdown",
      "source": [
        "View a sentence from the first text"
      ],
      "metadata": {
        "id": "zqKQbZ0wT915"
      }
    },
    {
      "cell_type": "code",
      "source": [
        "all_texts[0][20]"
      ],
      "metadata": {
        "id": "aaRf2-dGT8Bv"
      },
      "execution_count": null,
      "outputs": []
    }
  ]
}